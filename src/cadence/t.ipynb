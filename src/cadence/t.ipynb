{
 "cells": [
  {
   "cell_type": "code",
   "execution_count": null,
   "metadata": {},
   "outputs": [],
   "source": [
    "import os\n",
    "\n",
    "CUR_DIR = os.getcwd()\n",
    "print(\"dir_name \", CUR_DIR)\n",
    "\n",
    "# get the files from this directory\n",
    "\n",
    "files_and_folders = os.listdir(CUR_DIR)\n",
    "print(\"files: \", files_and_folders)\n"
   ]
  },
  {
   "cell_type": "code",
   "execution_count": null,
   "metadata": {},
   "outputs": [],
   "source": [
    "folders_root = [f for f in files_and_folders if os.path.isdir(f)]\n",
    "folders_root "
   ]
  },
  {
   "cell_type": "code",
   "execution_count": 45,
   "metadata": {},
   "outputs": [],
   "source": [
    "# traverse through every folder and get the verilog files\n",
    "import re\n",
    "from typing import Literal\n",
    "\n",
    "\n",
    "\n",
    "class VerilogFile:\n",
    "    @staticmethod\n",
    "    def read_file_lines(file_name):\n",
    "        with open(file_name, \"r\") as file:\n",
    "            return file.readlines()\n",
    "\n",
    "    def __get_by_name(self, name: Literal[\"input\", \"output\"], file_name: str, seen:int=0) -> int:\n",
    "        lines = VerilogFile.read_file_lines(file_name)\n",
    "        inputs = []\n",
    "        # print('File name = ', file_name)\n",
    "        for i, line in enumerate(lines):\n",
    "            if f\" {name} \" in line:  # find the first line with ;\n",
    "                if seen > 0:\n",
    "                    seen -= 1\n",
    "                    continue\n",
    "                for j in range(i, len(lines)):\n",
    "                    cur_inputs = re.split(\",| \", lines[j])  # split by comma or space\n",
    "                    cur_inputs = [\n",
    "                        i.replace(\";\", \"\").replace(\"'\", \"\").replace(\")\", \"\").strip()\n",
    "                        for i in cur_inputs\n",
    "                        if i.strip()\n",
    "                    ]\n",
    "                    inputs.extend(cur_inputs)\n",
    "                    # print(\"cur_inputs = \", cur_inputs)\n",
    "                    if \";\" in lines[j]:\n",
    "                        return len(inputs) - 1\n",
    "        raise ValueError(\"No inputs found in file\")\n",
    "\n",
    "    @staticmethod\n",
    "    def get_number_inputs(file_name:str, seen:int=0 ) -> int:\n",
    "        return VerilogFile().__get_by_name(\"input\", file_name, seen) + seen \n",
    "\n",
    "    @staticmethod\n",
    "    def get_number_outputs(file_name) -> int:\n",
    "        return VerilogFile().__get_by_name(\"output\", file_name)\n",
    "\n",
    "    @staticmethod\n",
    "    def get_io(file_name) -> int:\n",
    "        return VerilogFile.get_number_inputs(\n",
    "            file_name, seen=1\n",
    "        ) + VerilogFile.get_number_outputs(file_name)\n",
    "\n",
    "\n",
    "# VerilogFile.get_io(CUR_DIR + \"\\\\\" + folders_root[0] + \"\\\\\" + \"c1355_encrypted.v\")"
   ]
  },
  {
   "cell_type": "code",
   "execution_count": null,
   "metadata": {},
   "outputs": [],
   "source": [
    "os.listdir(CUR_DIR + \"/\" + folders_root[0])"
   ]
  },
  {
   "cell_type": "code",
   "execution_count": null,
   "metadata": {},
   "outputs": [],
   "source": [
    "# Get the IO of every file in every folder\n",
    "import pandas as pd \n",
    "def get_io_folder(folder):\n",
    "    files = os.listdir(CUR_DIR + \"/\" + folder)\n",
    "    print('files = ', files)\n",
    "    return [{'Benchmark_name': file, 'io' :VerilogFile.get_io(CUR_DIR + \"/\" + folder + \"/\" + file)} for file in files if file.endswith('.v')]\n",
    "\n",
    "df = pd.DataFrame( get_io_folder(folders_root[0]))\n",
    "\n",
    "\n",
    "for folder in folders_root:\n",
    "    print('folder = ', folder)\n",
    "    print(pd.DataFrame( get_io_folder(folder) ))\n",
    "    print('\\n\\n')"
   ]
  },
  {
   "cell_type": "code",
   "execution_count": 17,
   "metadata": {},
   "outputs": [],
   "source": [
    "from typing import Dict, List\n",
    "from pprint import pprint\n",
    "import pandas as pd\n",
    "\n",
    "NAME_IN = 0 \n",
    "LINE_IN = 1 \n",
    "WORD_NUMBER = 2 \n",
    "report_types :list[tuple[str, str, int]]= [  \n",
    "                                        ('area', '<none> (D)', 4), \n",
    "                                        ('power', 'Subtotal', 4 )\n",
    "                ] \n",
    "\n",
    "def get_files_in_folder(folder_name: str):\n",
    "    folders = os.listdir(  folder_name)\n",
    "    result : Dict[str, List[str]] = {\"Benchmark_Name\": [], \"area\": [], \"power\": []} \n",
    "\n",
    "    for f in folders: \n",
    "        dir_path = os.path.join(CUR_DIR, folder_name, f)\n",
    "        # print(f'f={f} ')\n",
    "        if not os.path.isdir(dir_path):\n",
    "            continue\n",
    "        for file in os.listdir(dir_path):\n",
    "            for report, line_in, word_number in report_types:\n",
    "                if report in file:\n",
    "                    # print(f'\\n\\nf={f} ' )\n",
    "                    # print(f'file = {file}')\n",
    "                    if f not in result[\"Benchmark_Name\"]:\n",
    "                        result[\"Benchmark_Name\"].append(f)\n",
    "                    # check if the word is in the file, the get the value at the word number \n",
    "                    with open(os.path.join(dir_path, file), 'r') as f_:\n",
    "                        lines = f_.readlines()\n",
    "                        for line in lines:\n",
    "                            if line_in in line:\n",
    "                                # print('line = ', line)\n",
    "                                words = line.split()\n",
    "                                # print('words = ', words)\n",
    "                                # print('value = ', words[word_number])\n",
    "                                result[report].append(words[word_number])\n",
    "    # pprint(result)\n",
    "    return result\n",
    "\n",
    "\n",
    "df = pd.DataFrame(get_files_in_folder(folders_root[0]))\n"
   ]
  },
  {
   "cell_type": "code",
   "execution_count": null,
   "metadata": {},
   "outputs": [],
   "source": [
    "for folder in folders_root:\n",
    "    print('  \\n')\n",
    "    print(f'folder = {folder}')\n",
    "    df = pd.DataFrame(  get_files_in_folder(folder) ) \n",
    "    print(df)"
   ]
  }
 ],
 "metadata": {
  "kernelspec": {
   "display_name": "Python 3",
   "language": "python",
   "name": "python3"
  },
  "language_info": {
   "codemirror_mode": {
    "name": "ipython",
    "version": 3
   },
   "file_extension": ".py",
   "mimetype": "text/x-python",
   "name": "python",
   "nbconvert_exporter": "python",
   "pygments_lexer": "ipython3",
   "version": "3.10.12"
  }
 },
 "nbformat": 4,
 "nbformat_minor": 2
}
