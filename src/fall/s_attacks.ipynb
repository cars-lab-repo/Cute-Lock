{
 "cells": [
  {
   "cell_type": "code",
   "execution_count": null,
   "metadata": {},
   "outputs": [],
   "source": [
    "%load_ext autoreload\n",
    "%autoreload 2\n"
   ]
  },
  {
   "cell_type": "code",
   "execution_count": null,
   "metadata": {},
   "outputs": [],
   "source": [
    "# python ./Tools/fall/src/decrypt_unified.py ./Tools/_3_4_5_k\\=2/iscas85/PowerRun/c7552_encrypted.bench\n",
    "\n",
    "import subprocess\n",
    "\n",
    "\n",
    "def run_fall_attack(file_path: str) -> str:\n",
    "    \"\"\"Runs fall attack and returns the logs of the attack\"\"\"\n",
    "    # Run fall attack\n",
    "    python_interpreter = \"python3\"\n",
    "    script_path = \"./../Tools/fall/src/decrypt_unified.py\"\n",
    "    args = [python_interpreter, script_path, file_path, \"--alg\", \"3\"]\n",
    "    result = subprocess.run(\n",
    "        args,\n",
    "        capture_output=True,\n",
    "        text=True,\n",
    "    )\n",
    "    # Return the logs of the attack\n",
    "    return result.stdout + result.stderr\n",
    "\n",
    "\n",
    "# python ./Tools/fall/src/decrypt_unified.py ./Tools/_3_4_5_k\\=2/iscas85/PowerRun/c7552_encrypted.bench\n",
    "o = run_fall_attack(\"./../Tools/_3_4_5_k=2/iscas85/PowerRun/c7552_encrypted.bench\")\n",
    "print(o)"
   ]
  },
  {
   "cell_type": "code",
   "execution_count": null,
   "metadata": {},
   "outputs": [],
   "source": [
    "# Need to convert all the .bench files dff into inputs and outputs\n",
    "from typing import Dict\n",
    "from BenchParser import BenchParser\n",
    "from BenchFileWriter import BenchFileWriter\n",
    "import os\n",
    "\n",
    "\n",
    "def convert_all_dffs2io(file_path: str, desired_output_path: str = \"./ITC99/\"):\n",
    "    print(f\"Converting {file_path} to io\\n in the location {desired_output_path}\")\n",
    "    bench_file = BenchParser(file_path)\n",
    "    file_name = file_path.split(\"/\")[-1]\n",
    "    # print(bench_file.gates)\n",
    "    new_gates: Dict[str, tuple[str, tuple[str, str]]] = {}\n",
    "    for g_name, (g_type, g_inputs) in bench_file.gates.items():\n",
    "        if g_type.lower() == \"dff\":\n",
    "            # print(g_name, g_inputs)\n",
    "            # add the gate to the inputs, outputs and remove it from the gates\n",
    "            bench_file.inputs.append(g_name)\n",
    "            for i in g_inputs:\n",
    "                if i in bench_file.outputs:\n",
    "                    bench_file.outputs.append(i)\n",
    "        else:\n",
    "            new_gates[g_name] = (g_type, g_inputs)\n",
    "    bench_file.gates = new_gates\n",
    "    output_file_path = f\"\"\"{desired_output_path}{file_name.replace(\".bench\", \"_io.bench\")}\"\"\"\n",
    "    bench_file_writer = BenchFileWriter(\n",
    "        path=output_file_path,\n",
    "        gates=bench_file.gates,\n",
    "        inputs=bench_file.inputs,\n",
    "        outputs=bench_file.outputs,\n",
    "        flip_flops={}, \n",
    "        locking_info=[]\n",
    "    )\n",
    "    bench_file_writer.write()\n",
    "    return output_file_path\n"
   ]
  },
  {
   "cell_type": "code",
   "execution_count": null,
   "metadata": {},
   "outputs": [],
   "source": [
    "import os\n",
    "\n",
    "\n",
    "ITC99_path = \"../test_runs/ITC99_KeySize=InputSize__RANEKC2/ITC99/\"\n",
    "for file in os.listdir(ITC99_path):\n",
    "\tif file.endswith(\".bench\"):\n",
    "\t\tconvert_all_dffs2io(f\"{ITC99_path}{file}\", \"./tff/ITC99/\")\n",
    "\t\t# RUn the fall attack\n",
    "\t\to = run_fall_attack(f\"./tff/ITC99/{file.replace('.bench', '_io.bench')}\")\n",
    "\t\tprint(o)"
   ]
  },
  {
   "cell_type": "code",
   "execution_count": null,
   "metadata": {},
   "outputs": [],
   "source": [
    "iscas_path = \"../test_runs/Structural_keySize=Input_RAIN/iscas89/\"\n",
    "def convert_and_run_folder(path:str, output:str = \"./tff/ITC99/\"):\n",
    "\tfor file in os.listdir(path):\n",
    "\t\tif file.endswith(\".bench\"):\n",
    "\t\t\tconvert_all_dffs2io(f\"{path}{file}\", output)\n",
    "\t\t\t# RUn the fall attack\n",
    "\t\t\to = run_fall_attack(f\"{output}{file.replace('.bench', '_io.bench')}\")\n",
    "\t\t\tprint(o)\n",
    "\n",
    "convert_and_run_folder(iscas_path, \"./tff/iscas89/\")"
   ]
  },
  {
   "cell_type": "code",
   "execution_count": null,
   "metadata": {},
   "outputs": [],
   "source": []
  }
 ],
 "metadata": {
  "kernelspec": {
   "display_name": "Python 3 (ipykernel)",
   "language": "python",
   "name": "python3"
  },
  "language_info": {
   "codemirror_mode": {
    "name": "ipython",
    "version": 3
   },
   "file_extension": ".py",
   "mimetype": "text/x-python",
   "name": "python",
   "nbconvert_exporter": "python",
   "pygments_lexer": "ipython3",
   "version": "3.11.10"
  }
 },
 "nbformat": 4,
 "nbformat_minor": 2
}
